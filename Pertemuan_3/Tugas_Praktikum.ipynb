{
  "nbformat": 4,
  "nbformat_minor": 0,
  "metadata": {
    "colab": {
      "provenance": [],
      "authorship_tag": "ABX9TyN+mC59Mw+JggtLjI2swPyJ",
      "include_colab_link": true
    },
    "kernelspec": {
      "name": "python3",
      "display_name": "Python 3"
    },
    "language_info": {
      "name": "python"
    }
  },
  "cells": [
    {
      "cell_type": "markdown",
      "metadata": {
        "id": "view-in-github",
        "colab_type": "text"
      },
      "source": [
        "<a href=\"https://colab.research.google.com/github/MaulidinZakaria/16_MaulidinZakaria-Machine_Learning/blob/main/Pertemuan_3/Tugas_Praktikum.ipynb\" target=\"_parent\"><img src=\"https://colab.research.google.com/assets/colab-badge.svg\" alt=\"Open In Colab\"/></a>"
      ]
    },
    {
      "cell_type": "markdown",
      "source": [
        "# **Tugas : Multiple Linear Regression**\n",
        "\n",
        "1. Identifikasi variabel-variabel yang akan digunakan sebagai variabel bebas (fitur) dan variabel target (biaya medis personal).\n",
        "\n",
        "2. Bagi dataset menjadi data latih (train) dan data uji (test) dengan proporsi yang sesuai.\n",
        "\n",
        "3. Lakukan feature scaling jika diperlukan.\n",
        "\n",
        "4. Buat model multiple linear regression menggunakan Scikit-Learn.\n",
        "\n",
        "5. Latih model pada data latih dan lakukan prediksi pada data uji.\n",
        "\n",
        "6. Evaluasi model dengan menghitung metrik seperti R-squared, MSE, dan MAE. Tampilkan hasil evaluasi."
      ],
      "metadata": {
        "id": "dNFzTmwkTBx2"
      }
    },
    {
      "cell_type": "markdown",
      "source": [
        "## **Jawaban :**"
      ],
      "metadata": {
        "id": "3oxBvmtAU5mx"
      }
    },
    {
      "cell_type": "code",
      "execution_count": 48,
      "metadata": {
        "id": "Jesevni9uo2Y"
      },
      "outputs": [],
      "source": [
        "import numpy as np\n",
        "import pandas as pd\n",
        "import matplotlib.pyplot as plt"
      ]
    },
    {
      "cell_type": "markdown",
      "source": [
        "1. import numpy as np:\n",
        "\n",
        "  - NumPy adalah library yang digunakan untuk komputasi numerik dan manipulasi array multidimensi dalam Python.\n",
        "\n",
        "2. import pandas as pd:\n",
        "\n",
        "  - Pandas adalah library yang digunakan untuk manipulasi data, terutama dalam bentuk DataFrame dan Series, yang memungkinkan untuk mengelola dan menganalisis data dengan lebih mudah dan efisien.\n",
        "\n",
        "3. import matplotlib.pyplot as plt:\n",
        "\n",
        "  - Matplotlib digunakan untuk Visualisasi data dalam berbagai bentuk grafik."
      ],
      "metadata": {
        "id": "66S_57VCwqSb"
      }
    },
    {
      "cell_type": "code",
      "source": [
        "data = pd.read_csv('insurance.csv')"
      ],
      "metadata": {
        "id": "idLisdu1vwbb"
      },
      "execution_count": 49,
      "outputs": []
    },
    {
      "cell_type": "markdown",
      "source": [
        "Kode tersebut digunakan untuk membaca data dari file insurance.csv dan menyimpannya dalam variabel data untuk analisis lebih lanjut."
      ],
      "metadata": {
        "id": "8CEsKfW_wrg3"
      }
    },
    {
      "cell_type": "markdown",
      "source": [
        "### **1. Identifikasi variabel-variabel yang akan digunakan sebagai variabel bebas (fitur) dan variabel target (biaya medis personal).**"
      ],
      "metadata": {
        "id": "CTbusEN-OWjk"
      }
    },
    {
      "cell_type": "code",
      "source": [
        "data.info()\n",
        "data.head()"
      ],
      "metadata": {
        "colab": {
          "base_uri": "https://localhost:8080/",
          "height": 449
        },
        "id": "TJM3kKztkMqv",
        "outputId": "bcd55c26-8b70-4140-81a5-3972733f8e6a"
      },
      "execution_count": 50,
      "outputs": [
        {
          "output_type": "stream",
          "name": "stdout",
          "text": [
            "<class 'pandas.core.frame.DataFrame'>\n",
            "RangeIndex: 1338 entries, 0 to 1337\n",
            "Data columns (total 7 columns):\n",
            " #   Column    Non-Null Count  Dtype  \n",
            "---  ------    --------------  -----  \n",
            " 0   age       1338 non-null   int64  \n",
            " 1   sex       1338 non-null   object \n",
            " 2   bmi       1338 non-null   float64\n",
            " 3   children  1338 non-null   int64  \n",
            " 4   smoker    1338 non-null   object \n",
            " 5   region    1338 non-null   object \n",
            " 6   charges   1338 non-null   float64\n",
            "dtypes: float64(2), int64(2), object(3)\n",
            "memory usage: 73.3+ KB\n"
          ]
        },
        {
          "output_type": "execute_result",
          "data": {
            "text/plain": [
              "   age     sex     bmi  children smoker     region      charges\n",
              "0   19  female  27.900         0    yes  southwest  16884.92400\n",
              "1   18    male  33.770         1     no  southeast   1725.55230\n",
              "2   28    male  33.000         3     no  southeast   4449.46200\n",
              "3   33    male  22.705         0     no  northwest  21984.47061\n",
              "4   32    male  28.880         0     no  northwest   3866.85520"
            ],
            "text/html": [
              "\n",
              "  <div id=\"df-8f04ba40-efea-426b-9ee1-d0e9e372deb2\" class=\"colab-df-container\">\n",
              "    <div>\n",
              "<style scoped>\n",
              "    .dataframe tbody tr th:only-of-type {\n",
              "        vertical-align: middle;\n",
              "    }\n",
              "\n",
              "    .dataframe tbody tr th {\n",
              "        vertical-align: top;\n",
              "    }\n",
              "\n",
              "    .dataframe thead th {\n",
              "        text-align: right;\n",
              "    }\n",
              "</style>\n",
              "<table border=\"1\" class=\"dataframe\">\n",
              "  <thead>\n",
              "    <tr style=\"text-align: right;\">\n",
              "      <th></th>\n",
              "      <th>age</th>\n",
              "      <th>sex</th>\n",
              "      <th>bmi</th>\n",
              "      <th>children</th>\n",
              "      <th>smoker</th>\n",
              "      <th>region</th>\n",
              "      <th>charges</th>\n",
              "    </tr>\n",
              "  </thead>\n",
              "  <tbody>\n",
              "    <tr>\n",
              "      <th>0</th>\n",
              "      <td>19</td>\n",
              "      <td>female</td>\n",
              "      <td>27.900</td>\n",
              "      <td>0</td>\n",
              "      <td>yes</td>\n",
              "      <td>southwest</td>\n",
              "      <td>16884.92400</td>\n",
              "    </tr>\n",
              "    <tr>\n",
              "      <th>1</th>\n",
              "      <td>18</td>\n",
              "      <td>male</td>\n",
              "      <td>33.770</td>\n",
              "      <td>1</td>\n",
              "      <td>no</td>\n",
              "      <td>southeast</td>\n",
              "      <td>1725.55230</td>\n",
              "    </tr>\n",
              "    <tr>\n",
              "      <th>2</th>\n",
              "      <td>28</td>\n",
              "      <td>male</td>\n",
              "      <td>33.000</td>\n",
              "      <td>3</td>\n",
              "      <td>no</td>\n",
              "      <td>southeast</td>\n",
              "      <td>4449.46200</td>\n",
              "    </tr>\n",
              "    <tr>\n",
              "      <th>3</th>\n",
              "      <td>33</td>\n",
              "      <td>male</td>\n",
              "      <td>22.705</td>\n",
              "      <td>0</td>\n",
              "      <td>no</td>\n",
              "      <td>northwest</td>\n",
              "      <td>21984.47061</td>\n",
              "    </tr>\n",
              "    <tr>\n",
              "      <th>4</th>\n",
              "      <td>32</td>\n",
              "      <td>male</td>\n",
              "      <td>28.880</td>\n",
              "      <td>0</td>\n",
              "      <td>no</td>\n",
              "      <td>northwest</td>\n",
              "      <td>3866.85520</td>\n",
              "    </tr>\n",
              "  </tbody>\n",
              "</table>\n",
              "</div>\n",
              "    <div class=\"colab-df-buttons\">\n",
              "\n",
              "  <div class=\"colab-df-container\">\n",
              "    <button class=\"colab-df-convert\" onclick=\"convertToInteractive('df-8f04ba40-efea-426b-9ee1-d0e9e372deb2')\"\n",
              "            title=\"Convert this dataframe to an interactive table.\"\n",
              "            style=\"display:none;\">\n",
              "\n",
              "  <svg xmlns=\"http://www.w3.org/2000/svg\" height=\"24px\" viewBox=\"0 -960 960 960\">\n",
              "    <path d=\"M120-120v-720h720v720H120Zm60-500h600v-160H180v160Zm220 220h160v-160H400v160Zm0 220h160v-160H400v160ZM180-400h160v-160H180v160Zm440 0h160v-160H620v160ZM180-180h160v-160H180v160Zm440 0h160v-160H620v160Z\"/>\n",
              "  </svg>\n",
              "    </button>\n",
              "\n",
              "  <style>\n",
              "    .colab-df-container {\n",
              "      display:flex;\n",
              "      gap: 12px;\n",
              "    }\n",
              "\n",
              "    .colab-df-convert {\n",
              "      background-color: #E8F0FE;\n",
              "      border: none;\n",
              "      border-radius: 50%;\n",
              "      cursor: pointer;\n",
              "      display: none;\n",
              "      fill: #1967D2;\n",
              "      height: 32px;\n",
              "      padding: 0 0 0 0;\n",
              "      width: 32px;\n",
              "    }\n",
              "\n",
              "    .colab-df-convert:hover {\n",
              "      background-color: #E2EBFA;\n",
              "      box-shadow: 0px 1px 2px rgba(60, 64, 67, 0.3), 0px 1px 3px 1px rgba(60, 64, 67, 0.15);\n",
              "      fill: #174EA6;\n",
              "    }\n",
              "\n",
              "    .colab-df-buttons div {\n",
              "      margin-bottom: 4px;\n",
              "    }\n",
              "\n",
              "    [theme=dark] .colab-df-convert {\n",
              "      background-color: #3B4455;\n",
              "      fill: #D2E3FC;\n",
              "    }\n",
              "\n",
              "    [theme=dark] .colab-df-convert:hover {\n",
              "      background-color: #434B5C;\n",
              "      box-shadow: 0px 1px 3px 1px rgba(0, 0, 0, 0.15);\n",
              "      filter: drop-shadow(0px 1px 2px rgba(0, 0, 0, 0.3));\n",
              "      fill: #FFFFFF;\n",
              "    }\n",
              "  </style>\n",
              "\n",
              "    <script>\n",
              "      const buttonEl =\n",
              "        document.querySelector('#df-8f04ba40-efea-426b-9ee1-d0e9e372deb2 button.colab-df-convert');\n",
              "      buttonEl.style.display =\n",
              "        google.colab.kernel.accessAllowed ? 'block' : 'none';\n",
              "\n",
              "      async function convertToInteractive(key) {\n",
              "        const element = document.querySelector('#df-8f04ba40-efea-426b-9ee1-d0e9e372deb2');\n",
              "        const dataTable =\n",
              "          await google.colab.kernel.invokeFunction('convertToInteractive',\n",
              "                                                    [key], {});\n",
              "        if (!dataTable) return;\n",
              "\n",
              "        const docLinkHtml = 'Like what you see? Visit the ' +\n",
              "          '<a target=\"_blank\" href=https://colab.research.google.com/notebooks/data_table.ipynb>data table notebook</a>'\n",
              "          + ' to learn more about interactive tables.';\n",
              "        element.innerHTML = '';\n",
              "        dataTable['output_type'] = 'display_data';\n",
              "        await google.colab.output.renderOutput(dataTable, element);\n",
              "        const docLink = document.createElement('div');\n",
              "        docLink.innerHTML = docLinkHtml;\n",
              "        element.appendChild(docLink);\n",
              "      }\n",
              "    </script>\n",
              "  </div>\n",
              "\n",
              "\n",
              "<div id=\"df-f04ce5a7-6358-4b05-a57a-b667e0494cd2\">\n",
              "  <button class=\"colab-df-quickchart\" onclick=\"quickchart('df-f04ce5a7-6358-4b05-a57a-b667e0494cd2')\"\n",
              "            title=\"Suggest charts\"\n",
              "            style=\"display:none;\">\n",
              "\n",
              "<svg xmlns=\"http://www.w3.org/2000/svg\" height=\"24px\"viewBox=\"0 0 24 24\"\n",
              "     width=\"24px\">\n",
              "    <g>\n",
              "        <path d=\"M19 3H5c-1.1 0-2 .9-2 2v14c0 1.1.9 2 2 2h14c1.1 0 2-.9 2-2V5c0-1.1-.9-2-2-2zM9 17H7v-7h2v7zm4 0h-2V7h2v10zm4 0h-2v-4h2v4z\"/>\n",
              "    </g>\n",
              "</svg>\n",
              "  </button>\n",
              "\n",
              "<style>\n",
              "  .colab-df-quickchart {\n",
              "      --bg-color: #E8F0FE;\n",
              "      --fill-color: #1967D2;\n",
              "      --hover-bg-color: #E2EBFA;\n",
              "      --hover-fill-color: #174EA6;\n",
              "      --disabled-fill-color: #AAA;\n",
              "      --disabled-bg-color: #DDD;\n",
              "  }\n",
              "\n",
              "  [theme=dark] .colab-df-quickchart {\n",
              "      --bg-color: #3B4455;\n",
              "      --fill-color: #D2E3FC;\n",
              "      --hover-bg-color: #434B5C;\n",
              "      --hover-fill-color: #FFFFFF;\n",
              "      --disabled-bg-color: #3B4455;\n",
              "      --disabled-fill-color: #666;\n",
              "  }\n",
              "\n",
              "  .colab-df-quickchart {\n",
              "    background-color: var(--bg-color);\n",
              "    border: none;\n",
              "    border-radius: 50%;\n",
              "    cursor: pointer;\n",
              "    display: none;\n",
              "    fill: var(--fill-color);\n",
              "    height: 32px;\n",
              "    padding: 0;\n",
              "    width: 32px;\n",
              "  }\n",
              "\n",
              "  .colab-df-quickchart:hover {\n",
              "    background-color: var(--hover-bg-color);\n",
              "    box-shadow: 0 1px 2px rgba(60, 64, 67, 0.3), 0 1px 3px 1px rgba(60, 64, 67, 0.15);\n",
              "    fill: var(--button-hover-fill-color);\n",
              "  }\n",
              "\n",
              "  .colab-df-quickchart-complete:disabled,\n",
              "  .colab-df-quickchart-complete:disabled:hover {\n",
              "    background-color: var(--disabled-bg-color);\n",
              "    fill: var(--disabled-fill-color);\n",
              "    box-shadow: none;\n",
              "  }\n",
              "\n",
              "  .colab-df-spinner {\n",
              "    border: 2px solid var(--fill-color);\n",
              "    border-color: transparent;\n",
              "    border-bottom-color: var(--fill-color);\n",
              "    animation:\n",
              "      spin 1s steps(1) infinite;\n",
              "  }\n",
              "\n",
              "  @keyframes spin {\n",
              "    0% {\n",
              "      border-color: transparent;\n",
              "      border-bottom-color: var(--fill-color);\n",
              "      border-left-color: var(--fill-color);\n",
              "    }\n",
              "    20% {\n",
              "      border-color: transparent;\n",
              "      border-left-color: var(--fill-color);\n",
              "      border-top-color: var(--fill-color);\n",
              "    }\n",
              "    30% {\n",
              "      border-color: transparent;\n",
              "      border-left-color: var(--fill-color);\n",
              "      border-top-color: var(--fill-color);\n",
              "      border-right-color: var(--fill-color);\n",
              "    }\n",
              "    40% {\n",
              "      border-color: transparent;\n",
              "      border-right-color: var(--fill-color);\n",
              "      border-top-color: var(--fill-color);\n",
              "    }\n",
              "    60% {\n",
              "      border-color: transparent;\n",
              "      border-right-color: var(--fill-color);\n",
              "    }\n",
              "    80% {\n",
              "      border-color: transparent;\n",
              "      border-right-color: var(--fill-color);\n",
              "      border-bottom-color: var(--fill-color);\n",
              "    }\n",
              "    90% {\n",
              "      border-color: transparent;\n",
              "      border-bottom-color: var(--fill-color);\n",
              "    }\n",
              "  }\n",
              "</style>\n",
              "\n",
              "  <script>\n",
              "    async function quickchart(key) {\n",
              "      const quickchartButtonEl =\n",
              "        document.querySelector('#' + key + ' button');\n",
              "      quickchartButtonEl.disabled = true;  // To prevent multiple clicks.\n",
              "      quickchartButtonEl.classList.add('colab-df-spinner');\n",
              "      try {\n",
              "        const charts = await google.colab.kernel.invokeFunction(\n",
              "            'suggestCharts', [key], {});\n",
              "      } catch (error) {\n",
              "        console.error('Error during call to suggestCharts:', error);\n",
              "      }\n",
              "      quickchartButtonEl.classList.remove('colab-df-spinner');\n",
              "      quickchartButtonEl.classList.add('colab-df-quickchart-complete');\n",
              "    }\n",
              "    (() => {\n",
              "      let quickchartButtonEl =\n",
              "        document.querySelector('#df-f04ce5a7-6358-4b05-a57a-b667e0494cd2 button');\n",
              "      quickchartButtonEl.style.display =\n",
              "        google.colab.kernel.accessAllowed ? 'block' : 'none';\n",
              "    })();\n",
              "  </script>\n",
              "</div>\n",
              "\n",
              "    </div>\n",
              "  </div>\n"
            ],
            "application/vnd.google.colaboratory.intrinsic+json": {
              "type": "dataframe",
              "variable_name": "data",
              "summary": "{\n  \"name\": \"data\",\n  \"rows\": 1338,\n  \"fields\": [\n    {\n      \"column\": \"age\",\n      \"properties\": {\n        \"dtype\": \"number\",\n        \"std\": 14,\n        \"min\": 18,\n        \"max\": 64,\n        \"num_unique_values\": 47,\n        \"samples\": [\n          21,\n          45,\n          36\n        ],\n        \"semantic_type\": \"\",\n        \"description\": \"\"\n      }\n    },\n    {\n      \"column\": \"sex\",\n      \"properties\": {\n        \"dtype\": \"category\",\n        \"num_unique_values\": 2,\n        \"samples\": [\n          \"male\",\n          \"female\"\n        ],\n        \"semantic_type\": \"\",\n        \"description\": \"\"\n      }\n    },\n    {\n      \"column\": \"bmi\",\n      \"properties\": {\n        \"dtype\": \"number\",\n        \"std\": 6.098186911679014,\n        \"min\": 15.96,\n        \"max\": 53.13,\n        \"num_unique_values\": 548,\n        \"samples\": [\n          23.18,\n          26.885\n        ],\n        \"semantic_type\": \"\",\n        \"description\": \"\"\n      }\n    },\n    {\n      \"column\": \"children\",\n      \"properties\": {\n        \"dtype\": \"number\",\n        \"std\": 1,\n        \"min\": 0,\n        \"max\": 5,\n        \"num_unique_values\": 6,\n        \"samples\": [\n          0,\n          1\n        ],\n        \"semantic_type\": \"\",\n        \"description\": \"\"\n      }\n    },\n    {\n      \"column\": \"smoker\",\n      \"properties\": {\n        \"dtype\": \"category\",\n        \"num_unique_values\": 2,\n        \"samples\": [\n          \"no\",\n          \"yes\"\n        ],\n        \"semantic_type\": \"\",\n        \"description\": \"\"\n      }\n    },\n    {\n      \"column\": \"region\",\n      \"properties\": {\n        \"dtype\": \"category\",\n        \"num_unique_values\": 4,\n        \"samples\": [\n          \"southeast\",\n          \"northeast\"\n        ],\n        \"semantic_type\": \"\",\n        \"description\": \"\"\n      }\n    },\n    {\n      \"column\": \"charges\",\n      \"properties\": {\n        \"dtype\": \"number\",\n        \"std\": 12110.011236694001,\n        \"min\": 1121.8739,\n        \"max\": 63770.42801,\n        \"num_unique_values\": 1337,\n        \"samples\": [\n          8688.85885,\n          5708.867\n        ],\n        \"semantic_type\": \"\",\n        \"description\": \"\"\n      }\n    }\n  ]\n}"
            }
          },
          "metadata": {},
          "execution_count": 50
        }
      ]
    },
    {
      "cell_type": "markdown",
      "source": [
        "- data.info(): Untuk melihat informasi umum tentang struktur DataFrame.\n",
        "- data.head(): Untuk melihat beberapa baris pertama data dan mendapatkan gambaran mengenai isinya."
      ],
      "metadata": {
        "id": "6INNscBBzaeo"
      }
    },
    {
      "cell_type": "code",
      "source": [
        "# encoding data\n",
        "from sklearn.preprocessing import LabelEncoder\n",
        "\n",
        "le = LabelEncoder()\n",
        "\n",
        "data_non_number = data.select_dtypes(include=['object']).columns\n",
        "\n",
        "for column in data_non_number:\n",
        "    data[column] = le.fit_transform(data[column])"
      ],
      "metadata": {
        "id": "F5uddmIWPoRC"
      },
      "execution_count": 51,
      "outputs": []
    },
    {
      "cell_type": "markdown",
      "source": [
        "\n",
        "1. from sklearn.preprocessing import LabelEncoder:\n",
        "  - Mengimpor LabelEncoder dari Scikit-learn, yang digunakan untuk mengubah (encode) variabel kategorikal menjadi angka.\n",
        "2. le = LabelEncoder():\n",
        "  - Membuat objek LabelEncoder dengan nama le.\n",
        "3. data_non_number = data.select_dtypes(include=['object']).columns:\n",
        "  - data.select_dtypes(include=['object']) memilih kolom-kolom dalam DataFrame data yang bertipe object.\n",
        "  - .columns mengembalikan nama-nama kolom yang bertipe object, disimpan dalam variabel data_non_number.\n",
        "4. for column in data_non_number::\n",
        "  - Looping atau perulangan untuk setiap nama kolom di data_non_number.\n",
        "5. data[column] = le.fit_transform(data[column]):\n",
        "  - Kode ini digunakan untuk mengubah semua kolom non-numerik dalam data menjadi numerik menggunakan Label Encoding."
      ],
      "metadata": {
        "id": "wTRLrf9J04XA"
      }
    },
    {
      "cell_type": "code",
      "source": [
        "# visualisasi korelasi dengan heatmap\n",
        "import seaborn as sns\n",
        "\n",
        "sns.heatmap(data.corr(), cmap=\"YlGnBu\", annot=True)\n",
        "plt.show()"
      ],
      "metadata": {
        "colab": {
          "base_uri": "https://localhost:8080/",
          "height": 435
        },
        "id": "uQHxxAV5OsX0",
        "outputId": "da2a8a0d-fcc8-49e6-ff7b-df8cced7b631"
      },
      "execution_count": 52,
      "outputs": [
        {
          "output_type": "display_data",
          "data": {
            "text/plain": [
              "<Figure size 640x480 with 2 Axes>"
            ],
            "image/png": "[encoded data removed]"
          },
          "metadata": {}
        }
      ]
    },
    {
      "cell_type": "markdown",
      "source": [
        "\n",
        "1. import seaborn as sns:\n",
        "\n",
        "  - Seaborn adalah library visualisasi data berbasis Matplotlib yang mempermudah pembuatan grafik yang lebih estetis dan informatif, termasuk heatmap.\n",
        "\n",
        "2. sns.heatmap(data.corr(), cmap=\"YlGnBu\", annot=True):\n",
        "  - Kode tersebut digunakan untuk menghasilkan heatmap untuk menunjukkan korelasi antar variabel dalam dataset. Ini membantu dalam mengidentifikasi hubungan kuat atau lemah di antara fitur, yang penting untuk analisis dan pembuatan model."
      ],
      "metadata": {
        "id": "oS2V6xm53vPg"
      }
    },
    {
      "cell_type": "code",
      "source": [
        "X = data.drop(columns=['region','charges'])\n",
        "y = data['charges']\n",
        "\n",
        "X, y"
      ],
      "metadata": {
        "colab": {
          "base_uri": "https://localhost:8080/"
        },
        "id": "AbwA5h1oZ8yS",
        "outputId": "49922438-cc51-4bd8-ed1d-1a56527e075f"
      },
      "execution_count": 53,
      "outputs": [
        {
          "output_type": "execute_result",
          "data": {
            "text/plain": [
              "(      age  sex     bmi  children  smoker\n",
              " 0      19    0  27.900         0       1\n",
              " 1      18    1  33.770         1       0\n",
              " 2      28    1  33.000         3       0\n",
              " 3      33    1  22.705         0       0\n",
              " 4      32    1  28.880         0       0\n",
              " ...   ...  ...     ...       ...     ...\n",
              " 1333   50    1  30.970         3       0\n",
              " 1334   18    0  31.920         0       0\n",
              " 1335   18    0  36.850         0       0\n",
              " 1336   21    0  25.800         0       0\n",
              " 1337   61    0  29.070         0       1\n",
              " \n",
              " [1338 rows x 5 columns],\n",
              " 0       16884.92400\n",
              " 1        1725.55230\n",
              " 2        4449.46200\n",
              " 3       21984.47061\n",
              " 4        3866.85520\n",
              "            ...     \n",
              " 1333    10600.54830\n",
              " 1334     2205.98080\n",
              " 1335     1629.83350\n",
              " 1336     2007.94500\n",
              " 1337    29141.36030\n",
              " Name: charges, Length: 1338, dtype: float64)"
            ]
          },
          "metadata": {},
          "execution_count": 53
        }
      ]
    },
    {
      "cell_type": "markdown",
      "source": [
        "- Menyimpan semua data pada Dataframe data dan menghapus data kolom 'charges'\n",
        "- Ini mengakses kolom charges dari DataFrame data dan menyimpannya dalam variabel y.\n",
        "\n",
        "kode ini mempersiapkan data untuk pelatihan model dengan membagi data menjadi fitur dan target."
      ],
      "metadata": {
        "id": "gNaH5QYYJpbl"
      }
    },
    {
      "cell_type": "markdown",
      "source": [
        "### **3. Lakukan feature scaling jika diperlukan.**"
      ],
      "metadata": {
        "id": "CNGABXfbZE48"
      }
    },
    {
      "cell_type": "code",
      "source": [
        "from sklearn.preprocessing import StandardScaler\n",
        "\n",
        "sc_X = StandardScaler()\n",
        "sc_y = StandardScaler()\n",
        "\n",
        "X = sc_X.fit_transform(X)\n",
        "y = sc_y.fit_transform(y.values.reshape(-1,1))"
      ],
      "metadata": {
        "id": "hRI7BgKJYv9x"
      },
      "execution_count": 54,
      "outputs": []
    },
    {
      "cell_type": "markdown",
      "source": [
        "1. from sklearn.preprocessing import StandardScaler:\n",
        "\n",
        "    - Ini mengimpor kelas StandardScaler yang digunakan untuk mengubah data sehingga memiliki rata-rata 0 dan deviasi standar 1.\n",
        "2. sc_X = StandardScaler() dan sc_y = StandardScaler():\n",
        "\n",
        "  - Dua objek StandardScaler dibuat: satu untuk fitur (sc_X) dan satu untuk target (sc_y). Ini memastikan bahwa fitur dan target dinormalisasi secara terpisah.\n",
        "\n",
        "3. X = sc_X.fit_transform(X):\n",
        "\n",
        "  - melakukan standarisasi pada fitur yang terdapat pada variabel X\n",
        "\n",
        "4. y = sc_y.fit_transform(y.values.reshape(-1, 1)):\n",
        "\n",
        "  - melakukan standarisasi pada fitur yang terdapat pada variabel y serta merubah bentuk array pada variabel y menjadi 2 dimensi. hal tersebut disebabkan karena StandardScaler mengharapkan input 2 dimensi."
      ],
      "metadata": {
        "id": "N6sBXYuiKzeI"
      }
    },
    {
      "cell_type": "markdown",
      "source": [
        "### **2. Bagi dataset menjadi data latih (train) dan data uji (test) dengan proporsi yang sesuai.**"
      ],
      "metadata": {
        "id": "RBVltwhkTMHI"
      }
    },
    {
      "cell_type": "code",
      "source": [
        "from sklearn.model_selection import train_test_split\n",
        "\n",
        "X_train, X_test, y_train, y_test = train_test_split(X, y, train_size=0.8, test_size=0.2, random_state=100)"
      ],
      "metadata": {
        "id": "WiI2PzmZEPgQ"
      },
      "execution_count": 55,
      "outputs": []
    },
    {
      "cell_type": "markdown",
      "source": [
        "Kode ini digunakan untuk membagi dataset menjadi set pelatihan dan pengujian.\n",
        "\n",
        "1. from sklearn.model_selection import train_test_split:\n",
        "\n",
        "  - Mengimpor fungsi train_test_split dari pustaka sklearn. Fungsi ini membantu membagi dataset secara acak menjadi set pelatihan dan pengujian.\n",
        "\n",
        "2. train_test_split(X, y, train_size=0.7, test_size=0.3, random_state=100):\n",
        "\n",
        "  - X_train dan y_train: 70% data untuk pelatihan.\n",
        "  - X_test dan y_test: 30% data untuk pengujian.\n",
        "  - random_state=100: Menjamin pembagian yang konsisten setiap kali kode dijalankan."
      ],
      "metadata": {
        "id": "LeyChHGnR2W_"
      }
    },
    {
      "cell_type": "markdown",
      "source": [
        "### **4. Buat model multiple linear regression menggunakan Scikit-Learn.**"
      ],
      "metadata": {
        "id": "w6oYzTE4TmOA"
      }
    },
    {
      "cell_type": "code",
      "source": [
        "from sklearn.linear_model import LinearRegression\n",
        "\n",
        "# Inisialisasi model Linear Regression\n",
        "model = LinearRegression()"
      ],
      "metadata": {
        "id": "34KSPteNkkFE"
      },
      "execution_count": 56,
      "outputs": []
    },
    {
      "cell_type": "markdown",
      "source": [
        "1. from sklearn.linear_model import LinearRegression:\n",
        "  - Mengimpor kelas LinearRegression yang merupakan implementasi dari algoritma regresi linier. Regresi linier digunakan untuk memodelkan hubungan antara variabel independen (fitur) dan variabel dependen (target).\n",
        "\n",
        "2. model = LinearRegression():\n",
        "  - Membuat objek dari kelas LinearRegression. Ini menginisialisasi model regresi linier yang siap digunakan untuk pelatihan dengan data yang telah disiapkan."
      ],
      "metadata": {
        "id": "UAwOi9zKSpTq"
      }
    },
    {
      "cell_type": "markdown",
      "source": [
        "### **5. Latih model pada data latih dan lakukan prediksi pada data uji.**"
      ],
      "metadata": {
        "id": "XknVk6tKki6d"
      }
    },
    {
      "cell_type": "code",
      "source": [
        "# Melatih model dengan data training\n",
        "model.fit(X_train, y_train)\n",
        "\n",
        "# Melakukan prediksi dengan data testing\n",
        "y_pred = model.predict(X_test)"
      ],
      "metadata": {
        "id": "zT_3VXhtLzQe"
      },
      "execution_count": 57,
      "outputs": []
    },
    {
      "cell_type": "markdown",
      "source": [
        "1. model.fit(X_train, y_train):\n",
        "\n",
        "  - Fungsi fit digunakan untuk melatih model regresi linier menggunakan data pelatihan. X_train berisi fitur dan y_train berisi target.\n",
        "\n",
        "2. y_pred = model.predict(X_test):\n",
        "\n",
        "  - fungsi predict digunakan untuk menghasilkan prediksi pada data pengujian (X_test). Hasil prediksi disimpan dalam variabel y_pred, yang berisi nilai yang diprediksi untuk setiap contoh dalam data pengujian berdasarkan model yang telah dilatih."
      ],
      "metadata": {
        "id": "JVnYMJpATBs6"
      }
    },
    {
      "cell_type": "code",
      "source": [
        "# # Mengembalikan prediksi dan data asli ke skala asli\n",
        "y_pred_trans = sc_y.inverse_transform(y_pred).ravel()\n",
        "y_test_trans = sc_y.inverse_transform(y_test.reshape(-1, 1)).ravel()\n",
        "\n",
        "# # Menampilkan hasil prediksi dan target sebenarnya\n",
        "df_results = pd.DataFrame({'Target (Actual)': y_test_trans, 'Prediction': y_pred_trans})\n",
        "\n",
        "# # Tampilkan 10 data pertama untuk perbandingan\n",
        "print(\"\\nHasil Prediksi vs Target (Actual):\")\n",
        "print(df_results.head(10))"
      ],
      "metadata": {
        "colab": {
          "base_uri": "https://localhost:8080/"
        },
        "id": "AAm1F6SulhMU",
        "outputId": "8507f225-8a7f-4fcd-f897-c051acbe45c5"
      },
      "execution_count": 58,
      "outputs": [
        {
          "output_type": "stream",
          "name": "stdout",
          "text": [
            "\n",
            "Hasil Prediksi vs Target (Actual):\n",
            "   Target (Actual)    Prediction\n",
            "0       1826.84300   4765.249466\n",
            "1      20177.67113   4957.730865\n",
            "2       7421.19455   8298.988153\n",
            "3       1877.92940   3078.811868\n",
            "4      15518.18025  24165.956542\n",
            "5      29523.16560  36827.728486\n",
            "6      13143.86485  14683.347293\n",
            "7       3279.86855   2599.338422\n",
            "8      18972.49500  29378.621943\n",
            "9      12950.07120  16011.750901\n"
          ]
        }
      ]
    },
    {
      "cell_type": "markdown",
      "source": [
        "### **6. Evaluasi model dengan menghitung metrik seperti R-squared, MSE, dan MAE. Tampilkan hasil evaluasi.**"
      ],
      "metadata": {
        "id": "2tqmG8rTT4h4"
      }
    },
    {
      "cell_type": "code",
      "source": [
        "from sklearn.metrics import mean_squared_error, mean_absolute_error, r2_score\n",
        "\n",
        "# Menghitung R-squared (R2) dari model terlatih\n",
        "r2 = r2_score(y_test, y_pred)\n",
        "\n",
        "# Menghitung Mean Squared Error (MSE)\n",
        "mse = mean_squared_error(y_test, y_pred)\n",
        "\n",
        "# Menghitung Mean Absolute Error (MAE)\n",
        "mae = mean_absolute_error(y_test, y_pred)\n",
        "\n",
        "# Menampilkan hasil evaluasi\n",
        "print(f\"R-squared (R2): \", r2)\n",
        "print(f\"Mean Squared Error (MSE): \", mse)\n",
        "print(f\"Mean Absolute Error (MAE): \", mae)"
      ],
      "metadata": {
        "colab": {
          "base_uri": "https://localhost:8080/"
        },
        "id": "9Jp27D4tMQBJ",
        "outputId": "b685f112-8f15-4ca5-ba06-87674be7896a"
      },
      "execution_count": 59,
      "outputs": [
        {
          "output_type": "stream",
          "name": "stdout",
          "text": [
            "R-squared (R2):  0.7938983522335602\n",
            "Mean Squared Error (MSE):  0.2205390589754036\n",
            "Mean Absolute Error (MAE):  0.32292126333170246\n"
          ]
        }
      ]
    },
    {
      "cell_type": "markdown",
      "source": [
        "Kode ini digunakan untuk mengevaluasi kinerja model regresi linier yang telah dilatih dengan menggunakan beberapa metrik evaluasi.\n",
        "\n",
        "1. from sklearn.metrics import mean_squared_error, mean_absolute_error, r2_score:\n",
        "\n",
        "  - Mengimpor tiga metrik evaluasi dari pustaka sklearn: mean_squared_error, mean_absolute_error, dan r2_score. Metrik ini digunakan untuk mengukur seberapa baik model dalam memprediksi nilai target.\n",
        "\n",
        "2. r2 = r2_score(y_test, y_pred):\n",
        "\n",
        "  - Menghitung nilai R-squared (R²), yang menunjukkan proporsi varians dalam data target yang dapat dijelaskan oleh model. Nilai R² berkisar antara 0 dan 1, di mana nilai yang lebih tinggi menunjukkan model yang lebih baik.\n",
        "\n",
        "3. mse = mean_squared_error(y_test, y_pred):\n",
        "\n",
        "  - Menghitung Mean Squared Error (MSE), yang mengukur rata-rata kuadrat perbedaan antara nilai yang diprediksi dan nilai aktual. MSE yang lebih rendah menunjukkan model yang lebih akurat.\n",
        "\n",
        "4. mae = mean_absolute_error(y_test, y_pred):\n",
        "\n",
        "  - Menghitung Mean Absolute Error (MAE), yang mengukur rata-rata absolut dari perbedaan antara nilai yang diprediksi dan nilai aktual. Seperti MSE, nilai MAE yang lebih rendah menunjukkan kinerja model yang lebih baik.\n",
        "\n",
        "5. print(...):\n",
        "\n",
        "  - Menampilkan hasil evaluasi untuk R², MSE, dan MAE ke layar. Ini memberikan informasi yang berguna tentang seberapa baik model melakukan prediksi pada data pengujian."
      ],
      "metadata": {
        "id": "yKI70BJKTl1W"
      }
    },
    {
      "cell_type": "markdown",
      "source": [
        "### **Visualisasi Hasil Prediksi.**"
      ],
      "metadata": {
        "id": "7ABKKah5k_oJ"
      }
    },
    {
      "cell_type": "code",
      "source": [
        "# Visualisasi hasil prediksi\n",
        "plt.scatter(y_test_trans, y_pred_trans,color='blue')\n",
        "plt.plot(y_test_trans, y_test_trans, color='red')\n",
        "plt.xlabel('Nilai Sebenarnya')\n",
        "plt.ylabel('Prediksi')\n",
        "plt.title('Nilai Sebenarnya vs Prediksi')\n",
        "plt.show()"
      ],
      "metadata": {
        "colab": {
          "base_uri": "https://localhost:8080/",
          "height": 472
        },
        "id": "sHZ2sa-obPNE",
        "outputId": "5ed99c88-8dcb-4cff-d6c7-859633be5859"
      },
      "execution_count": 60,
      "outputs": [
        {
          "output_type": "display_data",
          "data": {
            "text/plain": [
              "<Figure size 640x480 with 1 Axes>"
            ],
            "image/png": "[encoded data removed]"
          },
          "metadata": {}
        }
      ]
    },
    {
      "cell_type": "markdown",
      "source": [
        "Kode ini digunakan untuk memvisualisasikan hasil prediksi model regresi linier dengan membandingkan nilai aktual dan nilai yang diprediksi.\n",
        "\n",
        "1. plt.scatter(y_test, y_pred, color='blue'):\n",
        "\n",
        "  - Fungsi scatter digunakan untuk membuat plot sebar (scatter plot) yang menunjukkan titik-titik hasil prediksi (y_pred) terhadap nilai sebenarnya (y_test). Titik-titik ini berwarna biru.\n",
        "\n",
        "2. plt.plot(y_test, y_test, color='red'):\n",
        "\n",
        "  - Fungsi plot digunakan untuk menggambar garis lurus yang merepresentasikan hubungan ideal di mana nilai prediksi sama dengan nilai sebenarnya. Garis ini menggambarkan model yang sempurna, berwarna merah.\n",
        "\n",
        "3. plt.xlabel('Nilai Sebenarnya') dan plt.ylabel('Prediksi'):\n",
        "\n",
        "  - Menambahkan label pada sumbu x dan y. Sumbu x menunjukkan nilai sebenarnya, sedangkan sumbu y menunjukkan nilai yang diprediksi oleh model.\n",
        "\n",
        "4. plt.title('Nilai Sebenarnya vs Prediksi'):\n",
        "\n",
        "  - Menambahkan judul pada grafik untuk memberikan konteks tentang apa yang ditampilkan.\n",
        "\n",
        "5. plt.show():\n",
        "\n",
        "  - Menampilkan plot yang telah dibuat. Ini memungkinkan pengguna untuk melihat visualisasi dan menganalisis seberapa baik model dalam memprediksi nilai target."
      ],
      "metadata": {
        "id": "nM-2u2_YUQn1"
      }
    }
  ]
}